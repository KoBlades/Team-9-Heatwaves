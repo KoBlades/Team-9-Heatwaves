{
 "cells": [
  {
   "cell_type": "code",
   "execution_count": 20,
   "id": "4a6f48a7-8ced-4ed1-abf4-f32eb059e1f7",
   "metadata": {},
   "outputs": [],
   "source": [
    "import pandas as pd\n",
    "import requests\n",
    "import matplotlib"
   ]
  },
  {
   "cell_type": "code",
   "execution_count": 22,
   "id": "27c387fa-83b1-4a8e-ba1c-aa1affcdf205",
   "metadata": {},
   "outputs": [
    {
     "name": "stdout",
     "output_type": "stream",
     "text": [
      "                 FIRE_ID  FIRE_NAME  YEAR    ACRES   latitude   longitude\n",
      "0  CA3633311865120220803     SUMMIT  2022   2266.0  36.329019 -118.655495\n",
      "1  CA3261311670620220831  BORDER 32  2022   4530.0  32.609464 -116.656240\n",
      "2  CA3371711689320220905   FAIRVIEW  2022  28680.0  33.676957 -116.865109\n",
      "3  CA3451411862920220831      ROUTE  2022   5335.0  34.545041 -118.643723\n",
      "4  CA3493411887620220622    THUNDER  2022   2586.0  34.922891 -118.894484\n",
      "Total records fetched: 20\n",
      "Years from earliest to latest:\n",
      "[2012, 2022]\n"
     ]
    },
    {
     "data": {
      "text/html": [
       "<div>\n",
       "<style scoped>\n",
       "    .dataframe tbody tr th:only-of-type {\n",
       "        vertical-align: middle;\n",
       "    }\n",
       "\n",
       "    .dataframe tbody tr th {\n",
       "        vertical-align: top;\n",
       "    }\n",
       "\n",
       "    .dataframe thead th {\n",
       "        text-align: right;\n",
       "    }\n",
       "</style>\n",
       "<table border=\"1\" class=\"dataframe\">\n",
       "  <thead>\n",
       "    <tr style=\"text-align: right;\">\n",
       "      <th></th>\n",
       "      <th>FIRE_ID</th>\n",
       "      <th>FIRE_NAME</th>\n",
       "      <th>YEAR</th>\n",
       "      <th>ACRES</th>\n",
       "      <th>latitude</th>\n",
       "      <th>longitude</th>\n",
       "    </tr>\n",
       "  </thead>\n",
       "  <tbody>\n",
       "    <tr>\n",
       "      <th>0</th>\n",
       "      <td>CA3633311865120220803</td>\n",
       "      <td>SUMMIT</td>\n",
       "      <td>2022</td>\n",
       "      <td>2266.0</td>\n",
       "      <td>36.329019</td>\n",
       "      <td>-118.655495</td>\n",
       "    </tr>\n",
       "    <tr>\n",
       "      <th>1</th>\n",
       "      <td>CA3261311670620220831</td>\n",
       "      <td>BORDER 32</td>\n",
       "      <td>2022</td>\n",
       "      <td>4530.0</td>\n",
       "      <td>32.609464</td>\n",
       "      <td>-116.656240</td>\n",
       "    </tr>\n",
       "    <tr>\n",
       "      <th>2</th>\n",
       "      <td>CA3371711689320220905</td>\n",
       "      <td>FAIRVIEW</td>\n",
       "      <td>2022</td>\n",
       "      <td>28680.0</td>\n",
       "      <td>33.676957</td>\n",
       "      <td>-116.865109</td>\n",
       "    </tr>\n",
       "    <tr>\n",
       "      <th>3</th>\n",
       "      <td>CA3451411862920220831</td>\n",
       "      <td>ROUTE</td>\n",
       "      <td>2022</td>\n",
       "      <td>5335.0</td>\n",
       "      <td>34.545041</td>\n",
       "      <td>-118.643723</td>\n",
       "    </tr>\n",
       "    <tr>\n",
       "      <th>4</th>\n",
       "      <td>CA3493411887620220622</td>\n",
       "      <td>THUNDER</td>\n",
       "      <td>2022</td>\n",
       "      <td>2586.0</td>\n",
       "      <td>34.922891</td>\n",
       "      <td>-118.894484</td>\n",
       "    </tr>\n",
       "    <tr>\n",
       "      <th>5</th>\n",
       "      <td>CA3418511691820220905</td>\n",
       "      <td>RADFORD</td>\n",
       "      <td>2022</td>\n",
       "      <td>1090.0</td>\n",
       "      <td>34.213471</td>\n",
       "      <td>-116.885535</td>\n",
       "    </tr>\n",
       "    <tr>\n",
       "      <th>6</th>\n",
       "      <td>CA3260811624320120517</td>\n",
       "      <td>BORDER 6</td>\n",
       "      <td>2012</td>\n",
       "      <td>5301.0</td>\n",
       "      <td>32.581808</td>\n",
       "      <td>-116.267738</td>\n",
       "    </tr>\n",
       "    <tr>\n",
       "      <th>7</th>\n",
       "      <td>CA3271011638520120617</td>\n",
       "      <td>OLD 2</td>\n",
       "      <td>2012</td>\n",
       "      <td>1058.0</td>\n",
       "      <td>32.694233</td>\n",
       "      <td>-116.366493</td>\n",
       "    </tr>\n",
       "    <tr>\n",
       "      <th>8</th>\n",
       "      <td>CA3306611643120120524</td>\n",
       "      <td>BANNER</td>\n",
       "      <td>2012</td>\n",
       "      <td>5371.0</td>\n",
       "      <td>33.050778</td>\n",
       "      <td>-116.452269</td>\n",
       "    </tr>\n",
       "    <tr>\n",
       "      <th>9</th>\n",
       "      <td>CA3312711649920120813</td>\n",
       "      <td>STEWART</td>\n",
       "      <td>2012</td>\n",
       "      <td>9501.0</td>\n",
       "      <td>33.137868</td>\n",
       "      <td>-116.487627</td>\n",
       "    </tr>\n",
       "    <tr>\n",
       "      <th>10</th>\n",
       "      <td>CA3317711645720120813</td>\n",
       "      <td>WILSON</td>\n",
       "      <td>2012</td>\n",
       "      <td>12048.0</td>\n",
       "      <td>33.185268</td>\n",
       "      <td>-116.464487</td>\n",
       "    </tr>\n",
       "    <tr>\n",
       "      <th>11</th>\n",
       "      <td>CA3337111674720120809</td>\n",
       "      <td>CHIHUAHUA 2</td>\n",
       "      <td>2012</td>\n",
       "      <td>2120.0</td>\n",
       "      <td>33.387848</td>\n",
       "      <td>-116.720102</td>\n",
       "    </tr>\n",
       "    <tr>\n",
       "      <th>12</th>\n",
       "      <td>CA3264811636520120923</td>\n",
       "      <td>SHOCKEY</td>\n",
       "      <td>2012</td>\n",
       "      <td>2667.0</td>\n",
       "      <td>32.618926</td>\n",
       "      <td>-116.335605</td>\n",
       "    </tr>\n",
       "    <tr>\n",
       "      <th>13</th>\n",
       "      <td>CA3385711693820120616</td>\n",
       "      <td>HIGHLAND</td>\n",
       "      <td>2012</td>\n",
       "      <td>2178.0</td>\n",
       "      <td>33.845626</td>\n",
       "      <td>-116.956385</td>\n",
       "    </tr>\n",
       "    <tr>\n",
       "      <th>14</th>\n",
       "      <td>CA3510511831220120717</td>\n",
       "      <td>SAND</td>\n",
       "      <td>2012</td>\n",
       "      <td>1380.0</td>\n",
       "      <td>35.121373</td>\n",
       "      <td>-118.304642</td>\n",
       "    </tr>\n",
       "    <tr>\n",
       "      <th>15</th>\n",
       "      <td>CA3534111823820120810</td>\n",
       "      <td>JAWBONE COMPLEX</td>\n",
       "      <td>2012</td>\n",
       "      <td>12211.0</td>\n",
       "      <td>35.275117</td>\n",
       "      <td>-118.219997</td>\n",
       "    </tr>\n",
       "    <tr>\n",
       "      <th>16</th>\n",
       "      <td>CA3614911850520120601</td>\n",
       "      <td>GEORGE</td>\n",
       "      <td>2012</td>\n",
       "      <td>1876.0</td>\n",
       "      <td>36.160996</td>\n",
       "      <td>-118.466871</td>\n",
       "    </tr>\n",
       "    <tr>\n",
       "      <th>17</th>\n",
       "      <td>CA3552511846520120804</td>\n",
       "      <td>PIUTE COMPLEX</td>\n",
       "      <td>2012</td>\n",
       "      <td>1492.0</td>\n",
       "      <td>35.525973</td>\n",
       "      <td>-118.446309</td>\n",
       "    </tr>\n",
       "    <tr>\n",
       "      <th>18</th>\n",
       "      <td>CA3355611691120120814</td>\n",
       "      <td>BUCK</td>\n",
       "      <td>2012</td>\n",
       "      <td>2579.0</td>\n",
       "      <td>33.579806</td>\n",
       "      <td>-116.852856</td>\n",
       "    </tr>\n",
       "    <tr>\n",
       "      <th>19</th>\n",
       "      <td>CA3423811772220120902</td>\n",
       "      <td>WILLIAMS</td>\n",
       "      <td>2012</td>\n",
       "      <td>4146.0</td>\n",
       "      <td>34.260194</td>\n",
       "      <td>-117.788924</td>\n",
       "    </tr>\n",
       "  </tbody>\n",
       "</table>\n",
       "</div>"
      ],
      "text/plain": [
       "                  FIRE_ID        FIRE_NAME  YEAR    ACRES   latitude  \\\n",
       "0   CA3633311865120220803           SUMMIT  2022   2266.0  36.329019   \n",
       "1   CA3261311670620220831        BORDER 32  2022   4530.0  32.609464   \n",
       "2   CA3371711689320220905         FAIRVIEW  2022  28680.0  33.676957   \n",
       "3   CA3451411862920220831            ROUTE  2022   5335.0  34.545041   \n",
       "4   CA3493411887620220622          THUNDER  2022   2586.0  34.922891   \n",
       "5   CA3418511691820220905          RADFORD  2022   1090.0  34.213471   \n",
       "6   CA3260811624320120517         BORDER 6  2012   5301.0  32.581808   \n",
       "7   CA3271011638520120617            OLD 2  2012   1058.0  32.694233   \n",
       "8   CA3306611643120120524           BANNER  2012   5371.0  33.050778   \n",
       "9   CA3312711649920120813          STEWART  2012   9501.0  33.137868   \n",
       "10  CA3317711645720120813           WILSON  2012  12048.0  33.185268   \n",
       "11  CA3337111674720120809      CHIHUAHUA 2  2012   2120.0  33.387848   \n",
       "12  CA3264811636520120923          SHOCKEY  2012   2667.0  32.618926   \n",
       "13  CA3385711693820120616         HIGHLAND  2012   2178.0  33.845626   \n",
       "14  CA3510511831220120717             SAND  2012   1380.0  35.121373   \n",
       "15  CA3534111823820120810  JAWBONE COMPLEX  2012  12211.0  35.275117   \n",
       "16  CA3614911850520120601           GEORGE  2012   1876.0  36.160996   \n",
       "17  CA3552511846520120804    PIUTE COMPLEX  2012   1492.0  35.525973   \n",
       "18  CA3355611691120120814             BUCK  2012   2579.0  33.579806   \n",
       "19  CA3423811772220120902         WILLIAMS  2012   4146.0  34.260194   \n",
       "\n",
       "     longitude  \n",
       "0  -118.655495  \n",
       "1  -116.656240  \n",
       "2  -116.865109  \n",
       "3  -118.643723  \n",
       "4  -118.894484  \n",
       "5  -116.885535  \n",
       "6  -116.267738  \n",
       "7  -116.366493  \n",
       "8  -116.452269  \n",
       "9  -116.487627  \n",
       "10 -116.464487  \n",
       "11 -116.720102  \n",
       "12 -116.335605  \n",
       "13 -116.956385  \n",
       "14 -118.304642  \n",
       "15 -118.219997  \n",
       "16 -118.466871  \n",
       "17 -118.446309  \n",
       "18 -116.852856  \n",
       "19 -117.788924  "
      ]
     },
     "execution_count": 22,
     "metadata": {},
     "output_type": "execute_result"
    }
   ],
   "source": [
    "\n",
    "# Base URL for the API\n",
    "base_url = \"https://apps.fs.usda.gov/arcx/rest/services/EDW/EDW_MTBS_01/MapServer/63/query\"\n",
    "\n",
    "def fetch_data(years, lat_min, lat_max, lon_min, lon_max, offset=0, limit=1000):\n",
    "    # Create a where clause to include only specific years\n",
    "    year_filter = \" OR \".join([f\"YEAR={year}\" for year in years])\n",
    "    params = {\n",
    "        'where': year_filter,\n",
    "        'outFields': 'FIRE_ID,FIRE_NAME,YEAR,ACRES',\n",
    "        'returnGeometry': 'true',\n",
    "        'outSR': 4326,\n",
    "        'f': 'json',\n",
    "        'resultRecordCount': limit,\n",
    "        'resultOffset': offset,\n",
    "        'geometry': f'{{\"xmin\":{lon_min},\"ymin\":{lat_min},\"xmax\":{lon_max},\"ymax\":{lat_max}}}',\n",
    "        'geometryType': 'esriGeometryEnvelope',\n",
    "        'spatialRel': 'esriSpatialRelIntersects'\n",
    "    }\n",
    "    response = requests.get(base_url, params=params)\n",
    "    data = response.json()\n",
    "    \n",
    "    if 'features' in data and len(data['features']) > 0:\n",
    "        records = []\n",
    "        for feature in data['features']:\n",
    "            attrs = feature['attributes']\n",
    "            # Extract geometry coordinates (assuming polygons)\n",
    "            geometry = feature.get('geometry', {})\n",
    "            if geometry.get('rings'):\n",
    "                # Assuming the first ring is the main polygon outline\n",
    "                coordinates = geometry['rings'][0]\n",
    "                # Take the average coordinate as a representative point\n",
    "                if coordinates:\n",
    "                    avg_lat = sum([point[1] for point in coordinates]) / len(coordinates)\n",
    "                    avg_lon = sum([point[0] for point in coordinates]) / len(coordinates)\n",
    "                    attrs['latitude'] = avg_lat\n",
    "                    attrs['longitude'] = avg_lon\n",
    "            records.append(attrs)\n",
    "        return pd.DataFrame(records)\n",
    "    else:\n",
    "        return pd.DataFrame()  # Return an empty DataFrame if no records are found\n",
    "\n",
    "# Define bounding box coordinates\n",
    "lat_min = 32.0  # Minimum latitude\n",
    "lat_max = 37.0  # Maximum latitude\n",
    "lon_min = -120.0 # Minimum longitude\n",
    "lon_max = -115.0 # Maximum longitude\n",
    "\n",
    "# Initialize an empty DataFrame to store all records\n",
    "all_records = pd.DataFrame()\n",
    "\n",
    "# Fetch data for the years 2012 and 2022\n",
    "years = [2012, 2022]\n",
    "offset = 0\n",
    "limit = 1000  # API limit\n",
    "\n",
    "while True:\n",
    "    df = fetch_data(years, lat_min, lat_max, lon_min, lon_max, offset, limit)\n",
    "    if not df.empty:\n",
    "        all_records = pd.concat([all_records, df], ignore_index=True)\n",
    "        offset += limit  # Move to the next batch\n",
    "    else:\n",
    "        break  # Exit loop if no more data\n",
    "\n",
    "# Display the DataFrame\n",
    "print(all_records.head())\n",
    "print(f\"Total records fetched: {len(all_records)}\")\n",
    "\n",
    "# Display unique years\n",
    "unique_years = all_records['YEAR'].astype(int).unique()\n",
    "sorted_years = sorted(unique_years)\n",
    "print(\"Years from earliest to latest:\")\n",
    "print(sorted_years)\n",
    "\n",
    "all_records"
   ]
  },
  {
   "cell_type": "code",
   "execution_count": 19,
   "id": "77b1ff88-337e-4be2-8ffc-7913578d61c5",
   "metadata": {},
   "outputs": [
    {
     "name": "stdout",
     "output_type": "stream",
     "text": [
      "Count of records for each year:\n",
      "YEAR\n",
      "2012    14\n",
      "2022     6\n",
      "Name: count, dtype: int64\n"
     ]
    }
   ],
   "source": [
    "# Count the number of records for each year\n",
    "year_counts = all_records['YEAR'].value_counts().sort_index()\n",
    "print(\"Count of records for each year:\")\n",
    "print(year_counts)\n"
   ]
  },
  {
   "cell_type": "code",
   "execution_count": 23,
   "id": "95a5c361-61e0-4442-9a65-e7463c691e88",
   "metadata": {},
   "outputs": [
    {
     "name": "stdout",
     "output_type": "stream",
     "text": [
      "DataFrame has been saved to Output_Data/fire_data_2012_2022.csv\n"
     ]
    }
   ],
   "source": [
    "\n",
    "\n",
    "# Assuming `all_records` is your DataFrame\n",
    "csv_file_path = 'Output_Data/fire_data_2012_2022.csv'\n",
    "\n",
    "# Save the DataFrame to a CSV file\n",
    "all_records.to_csv(csv_file_path, index=False)\n",
    "\n",
    "print(f\"DataFrame has been saved to {csv_file_path}\")\n"
   ]
  },
  {
   "cell_type": "code",
   "execution_count": 25,
   "id": "9c7d3318-2b9a-4738-801a-9ba6328bda40",
   "metadata": {},
   "outputs": [],
   "source": [
    "import folium\n",
    "import plotly.express as px"
   ]
  },
  {
   "cell_type": "code",
   "execution_count": 32,
   "id": "59898e20-41e1-455e-a77e-547bc6b163ba",
   "metadata": {},
   "outputs": [
    {
     "data": {
      "application/vnd.plotly.v1+json": {
       "config": {
        "plotlyServerURL": "https://plot.ly"
       },
       "data": [
        {
         "customdata": [
          [
           2022,
           2266
          ],
          [
           2022,
           4530
          ],
          [
           2022,
           28680
          ],
          [
           2022,
           5335
          ],
          [
           2022,
           2586
          ],
          [
           2022,
           1090
          ],
          [
           2012,
           5301
          ],
          [
           2012,
           1058
          ],
          [
           2012,
           5371
          ],
          [
           2012,
           9501
          ],
          [
           2012,
           12048
          ],
          [
           2012,
           2120
          ],
          [
           2012,
           2667
          ],
          [
           2012,
           2178
          ],
          [
           2012,
           1380
          ],
          [
           2012,
           12211
          ],
          [
           2012,
           1876
          ],
          [
           2012,
           1492
          ],
          [
           2012,
           2579
          ],
          [
           2012,
           4146
          ]
         ],
         "hovertemplate": "<b>%{hovertext}</b><br><br>latitude=%{lat}<br>longitude=%{lon}<br>YEAR=%{customdata[0]}<br>ACRES=%{customdata[1]}<extra></extra>",
         "hovertext": [
          "SUMMIT",
          "BORDER 32",
          "FAIRVIEW",
          "ROUTE",
          "THUNDER",
          "RADFORD",
          "BORDER 6",
          "OLD 2",
          "BANNER",
          "STEWART",
          "WILSON",
          "CHIHUAHUA 2",
          "SHOCKEY",
          "HIGHLAND",
          "SAND",
          "JAWBONE COMPLEX",
          "GEORGE",
          "PIUTE COMPLEX",
          "BUCK",
          "WILLIAMS"
         ],
         "lat": [
          36.3290194862422,
          32.609463739529794,
          33.676956514150554,
          34.54504104712437,
          34.92289121804571,
          34.21347074913725,
          32.58180757380874,
          32.6942329310736,
          33.050778017888746,
          33.13786800871388,
          33.18526793673146,
          33.387848059261,
          32.61892577506164,
          33.84562632825666,
          35.12137273927863,
          35.27511741962612,
          36.160996242405886,
          35.52597286898124,
          33.57980626947579,
          34.26019363903986
         ],
         "legendgroup": "",
         "lon": [
          -118.65549532054008,
          -116.65624019229529,
          -116.86510900222098,
          -118.64372316035085,
          -118.89448433081388,
          -116.88553461350848,
          -116.26773763374504,
          -116.36649271121964,
          -116.4522693207144,
          -116.4876269556963,
          -116.46448691329395,
          -116.72010239925493,
          -116.33560499065186,
          -116.9563847371046,
          -118.30464186281004,
          -118.21999742553592,
          -118.46687142576764,
          -118.44630863839268,
          -116.85285609398376,
          -117.78892412476723
         ],
         "marker": {
          "color": "red"
         },
         "mode": "markers",
         "name": "",
         "showlegend": false,
         "subplot": "mapbox",
         "type": "scattermapbox"
        }
       ],
       "layout": {
        "autosize": true,
        "legend": {
         "tracegroupgap": 0
        },
        "mapbox": {
         "bearing": 0,
         "center": {
          "lat": 6.354769062463532,
          "lon": -150.72768712999573
         },
         "domain": {
          "x": [
           0,
           1
          ],
          "y": [
           0,
           1
          ]
         },
         "pitch": 0,
         "style": "carto-positron",
         "zoom": -1.1666776048052545
        },
        "margin": {
         "t": 60
        },
        "template": {
         "data": {
          "bar": [
           {
            "error_x": {
             "color": "#2a3f5f"
            },
            "error_y": {
             "color": "#2a3f5f"
            },
            "marker": {
             "line": {
              "color": "#E5ECF6",
              "width": 0.5
             },
             "pattern": {
              "fillmode": "overlay",
              "size": 10,
              "solidity": 0.2
             }
            },
            "type": "bar"
           }
          ],
          "barpolar": [
           {
            "marker": {
             "line": {
              "color": "#E5ECF6",
              "width": 0.5
             },
             "pattern": {
              "fillmode": "overlay",
              "size": 10,
              "solidity": 0.2
             }
            },
            "type": "barpolar"
           }
          ],
          "carpet": [
           {
            "aaxis": {
             "endlinecolor": "#2a3f5f",
             "gridcolor": "white",
             "linecolor": "white",
             "minorgridcolor": "white",
             "startlinecolor": "#2a3f5f"
            },
            "baxis": {
             "endlinecolor": "#2a3f5f",
             "gridcolor": "white",
             "linecolor": "white",
             "minorgridcolor": "white",
             "startlinecolor": "#2a3f5f"
            },
            "type": "carpet"
           }
          ],
          "choropleth": [
           {
            "colorbar": {
             "outlinewidth": 0,
             "ticks": ""
            },
            "type": "choropleth"
           }
          ],
          "contour": [
           {
            "colorbar": {
             "outlinewidth": 0,
             "ticks": ""
            },
            "colorscale": [
             [
              0,
              "#0d0887"
             ],
             [
              0.1111111111111111,
              "#46039f"
             ],
             [
              0.2222222222222222,
              "#7201a8"
             ],
             [
              0.3333333333333333,
              "#9c179e"
             ],
             [
              0.4444444444444444,
              "#bd3786"
             ],
             [
              0.5555555555555556,
              "#d8576b"
             ],
             [
              0.6666666666666666,
              "#ed7953"
             ],
             [
              0.7777777777777778,
              "#fb9f3a"
             ],
             [
              0.8888888888888888,
              "#fdca26"
             ],
             [
              1,
              "#f0f921"
             ]
            ],
            "type": "contour"
           }
          ],
          "contourcarpet": [
           {
            "colorbar": {
             "outlinewidth": 0,
             "ticks": ""
            },
            "type": "contourcarpet"
           }
          ],
          "heatmap": [
           {
            "colorbar": {
             "outlinewidth": 0,
             "ticks": ""
            },
            "colorscale": [
             [
              0,
              "#0d0887"
             ],
             [
              0.1111111111111111,
              "#46039f"
             ],
             [
              0.2222222222222222,
              "#7201a8"
             ],
             [
              0.3333333333333333,
              "#9c179e"
             ],
             [
              0.4444444444444444,
              "#bd3786"
             ],
             [
              0.5555555555555556,
              "#d8576b"
             ],
             [
              0.6666666666666666,
              "#ed7953"
             ],
             [
              0.7777777777777778,
              "#fb9f3a"
             ],
             [
              0.8888888888888888,
              "#fdca26"
             ],
             [
              1,
              "#f0f921"
             ]
            ],
            "type": "heatmap"
           }
          ],
          "heatmapgl": [
           {
            "colorbar": {
             "outlinewidth": 0,
             "ticks": ""
            },
            "colorscale": [
             [
              0,
              "#0d0887"
             ],
             [
              0.1111111111111111,
              "#46039f"
             ],
             [
              0.2222222222222222,
              "#7201a8"
             ],
             [
              0.3333333333333333,
              "#9c179e"
             ],
             [
              0.4444444444444444,
              "#bd3786"
             ],
             [
              0.5555555555555556,
              "#d8576b"
             ],
             [
              0.6666666666666666,
              "#ed7953"
             ],
             [
              0.7777777777777778,
              "#fb9f3a"
             ],
             [
              0.8888888888888888,
              "#fdca26"
             ],
             [
              1,
              "#f0f921"
             ]
            ],
            "type": "heatmapgl"
           }
          ],
          "histogram": [
           {
            "marker": {
             "pattern": {
              "fillmode": "overlay",
              "size": 10,
              "solidity": 0.2
             }
            },
            "type": "histogram"
           }
          ],
          "histogram2d": [
           {
            "colorbar": {
             "outlinewidth": 0,
             "ticks": ""
            },
            "colorscale": [
             [
              0,
              "#0d0887"
             ],
             [
              0.1111111111111111,
              "#46039f"
             ],
             [
              0.2222222222222222,
              "#7201a8"
             ],
             [
              0.3333333333333333,
              "#9c179e"
             ],
             [
              0.4444444444444444,
              "#bd3786"
             ],
             [
              0.5555555555555556,
              "#d8576b"
             ],
             [
              0.6666666666666666,
              "#ed7953"
             ],
             [
              0.7777777777777778,
              "#fb9f3a"
             ],
             [
              0.8888888888888888,
              "#fdca26"
             ],
             [
              1,
              "#f0f921"
             ]
            ],
            "type": "histogram2d"
           }
          ],
          "histogram2dcontour": [
           {
            "colorbar": {
             "outlinewidth": 0,
             "ticks": ""
            },
            "colorscale": [
             [
              0,
              "#0d0887"
             ],
             [
              0.1111111111111111,
              "#46039f"
             ],
             [
              0.2222222222222222,
              "#7201a8"
             ],
             [
              0.3333333333333333,
              "#9c179e"
             ],
             [
              0.4444444444444444,
              "#bd3786"
             ],
             [
              0.5555555555555556,
              "#d8576b"
             ],
             [
              0.6666666666666666,
              "#ed7953"
             ],
             [
              0.7777777777777778,
              "#fb9f3a"
             ],
             [
              0.8888888888888888,
              "#fdca26"
             ],
             [
              1,
              "#f0f921"
             ]
            ],
            "type": "histogram2dcontour"
           }
          ],
          "mesh3d": [
           {
            "colorbar": {
             "outlinewidth": 0,
             "ticks": ""
            },
            "type": "mesh3d"
           }
          ],
          "parcoords": [
           {
            "line": {
             "colorbar": {
              "outlinewidth": 0,
              "ticks": ""
             }
            },
            "type": "parcoords"
           }
          ],
          "pie": [
           {
            "automargin": true,
            "type": "pie"
           }
          ],
          "scatter": [
           {
            "fillpattern": {
             "fillmode": "overlay",
             "size": 10,
             "solidity": 0.2
            },
            "type": "scatter"
           }
          ],
          "scatter3d": [
           {
            "line": {
             "colorbar": {
              "outlinewidth": 0,
              "ticks": ""
             }
            },
            "marker": {
             "colorbar": {
              "outlinewidth": 0,
              "ticks": ""
             }
            },
            "type": "scatter3d"
           }
          ],
          "scattercarpet": [
           {
            "marker": {
             "colorbar": {
              "outlinewidth": 0,
              "ticks": ""
             }
            },
            "type": "scattercarpet"
           }
          ],
          "scattergeo": [
           {
            "marker": {
             "colorbar": {
              "outlinewidth": 0,
              "ticks": ""
             }
            },
            "type": "scattergeo"
           }
          ],
          "scattergl": [
           {
            "marker": {
             "colorbar": {
              "outlinewidth": 0,
              "ticks": ""
             }
            },
            "type": "scattergl"
           }
          ],
          "scattermapbox": [
           {
            "marker": {
             "colorbar": {
              "outlinewidth": 0,
              "ticks": ""
             }
            },
            "type": "scattermapbox"
           }
          ],
          "scatterpolar": [
           {
            "marker": {
             "colorbar": {
              "outlinewidth": 0,
              "ticks": ""
             }
            },
            "type": "scatterpolar"
           }
          ],
          "scatterpolargl": [
           {
            "marker": {
             "colorbar": {
              "outlinewidth": 0,
              "ticks": ""
             }
            },
            "type": "scatterpolargl"
           }
          ],
          "scatterternary": [
           {
            "marker": {
             "colorbar": {
              "outlinewidth": 0,
              "ticks": ""
             }
            },
            "type": "scatterternary"
           }
          ],
          "surface": [
           {
            "colorbar": {
             "outlinewidth": 0,
             "ticks": ""
            },
            "colorscale": [
             [
              0,
              "#0d0887"
             ],
             [
              0.1111111111111111,
              "#46039f"
             ],
             [
              0.2222222222222222,
              "#7201a8"
             ],
             [
              0.3333333333333333,
              "#9c179e"
             ],
             [
              0.4444444444444444,
              "#bd3786"
             ],
             [
              0.5555555555555556,
              "#d8576b"
             ],
             [
              0.6666666666666666,
              "#ed7953"
             ],
             [
              0.7777777777777778,
              "#fb9f3a"
             ],
             [
              0.8888888888888888,
              "#fdca26"
             ],
             [
              1,
              "#f0f921"
             ]
            ],
            "type": "surface"
           }
          ],
          "table": [
           {
            "cells": {
             "fill": {
              "color": "#EBF0F8"
             },
             "line": {
              "color": "white"
             }
            },
            "header": {
             "fill": {
              "color": "#C8D4E3"
             },
             "line": {
              "color": "white"
             }
            },
            "type": "table"
           }
          ]
         },
         "layout": {
          "annotationdefaults": {
           "arrowcolor": "#2a3f5f",
           "arrowhead": 0,
           "arrowwidth": 1
          },
          "autotypenumbers": "strict",
          "coloraxis": {
           "colorbar": {
            "outlinewidth": 0,
            "ticks": ""
           }
          },
          "colorscale": {
           "diverging": [
            [
             0,
             "#8e0152"
            ],
            [
             0.1,
             "#c51b7d"
            ],
            [
             0.2,
             "#de77ae"
            ],
            [
             0.3,
             "#f1b6da"
            ],
            [
             0.4,
             "#fde0ef"
            ],
            [
             0.5,
             "#f7f7f7"
            ],
            [
             0.6,
             "#e6f5d0"
            ],
            [
             0.7,
             "#b8e186"
            ],
            [
             0.8,
             "#7fbc41"
            ],
            [
             0.9,
             "#4d9221"
            ],
            [
             1,
             "#276419"
            ]
           ],
           "sequential": [
            [
             0,
             "#0d0887"
            ],
            [
             0.1111111111111111,
             "#46039f"
            ],
            [
             0.2222222222222222,
             "#7201a8"
            ],
            [
             0.3333333333333333,
             "#9c179e"
            ],
            [
             0.4444444444444444,
             "#bd3786"
            ],
            [
             0.5555555555555556,
             "#d8576b"
            ],
            [
             0.6666666666666666,
             "#ed7953"
            ],
            [
             0.7777777777777778,
             "#fb9f3a"
            ],
            [
             0.8888888888888888,
             "#fdca26"
            ],
            [
             1,
             "#f0f921"
            ]
           ],
           "sequentialminus": [
            [
             0,
             "#0d0887"
            ],
            [
             0.1111111111111111,
             "#46039f"
            ],
            [
             0.2222222222222222,
             "#7201a8"
            ],
            [
             0.3333333333333333,
             "#9c179e"
            ],
            [
             0.4444444444444444,
             "#bd3786"
            ],
            [
             0.5555555555555556,
             "#d8576b"
            ],
            [
             0.6666666666666666,
             "#ed7953"
            ],
            [
             0.7777777777777778,
             "#fb9f3a"
            ],
            [
             0.8888888888888888,
             "#fdca26"
            ],
            [
             1,
             "#f0f921"
            ]
           ]
          },
          "colorway": [
           "#636efa",
           "#EF553B",
           "#00cc96",
           "#ab63fa",
           "#FFA15A",
           "#19d3f3",
           "#FF6692",
           "#B6E880",
           "#FF97FF",
           "#FECB52"
          ],
          "font": {
           "color": "#2a3f5f"
          },
          "geo": {
           "bgcolor": "white",
           "lakecolor": "white",
           "landcolor": "#E5ECF6",
           "showlakes": true,
           "showland": true,
           "subunitcolor": "white"
          },
          "hoverlabel": {
           "align": "left"
          },
          "hovermode": "closest",
          "mapbox": {
           "style": "light"
          },
          "paper_bgcolor": "white",
          "plot_bgcolor": "#E5ECF6",
          "polar": {
           "angularaxis": {
            "gridcolor": "white",
            "linecolor": "white",
            "ticks": ""
           },
           "bgcolor": "#E5ECF6",
           "radialaxis": {
            "gridcolor": "white",
            "linecolor": "white",
            "ticks": ""
           }
          },
          "scene": {
           "xaxis": {
            "backgroundcolor": "#E5ECF6",
            "gridcolor": "white",
            "gridwidth": 2,
            "linecolor": "white",
            "showbackground": true,
            "ticks": "",
            "zerolinecolor": "white"
           },
           "yaxis": {
            "backgroundcolor": "#E5ECF6",
            "gridcolor": "white",
            "gridwidth": 2,
            "linecolor": "white",
            "showbackground": true,
            "ticks": "",
            "zerolinecolor": "white"
           },
           "zaxis": {
            "backgroundcolor": "#E5ECF6",
            "gridcolor": "white",
            "gridwidth": 2,
            "linecolor": "white",
            "showbackground": true,
            "ticks": "",
            "zerolinecolor": "white"
           }
          },
          "shapedefaults": {
           "line": {
            "color": "#2a3f5f"
           }
          },
          "ternary": {
           "aaxis": {
            "gridcolor": "white",
            "linecolor": "white",
            "ticks": ""
           },
           "baxis": {
            "gridcolor": "white",
            "linecolor": "white",
            "ticks": ""
           },
           "bgcolor": "#E5ECF6",
           "caxis": {
            "gridcolor": "white",
            "linecolor": "white",
            "ticks": ""
           }
          },
          "title": {
           "x": 0.05
          },
          "xaxis": {
           "automargin": true,
           "gridcolor": "white",
           "linecolor": "white",
           "ticks": "",
           "title": {
            "standoff": 15
           },
           "zerolinecolor": "white",
           "zerolinewidth": 2
          },
          "yaxis": {
           "automargin": true,
           "gridcolor": "white",
           "linecolor": "white",
           "ticks": "",
           "title": {
            "standoff": 15
           },
           "zerolinecolor": "white",
           "zerolinewidth": 2
          }
         }
        },
        "title": {
         "text": "Fire Locations",
         "x": 0.5
        }
       }
      },
      "image/png": "[encoded data removed]",
      "text/html": [
       "<div>                            <div id=\"84b9586d-a1f0-4436-86dd-2d75f534cc0a\" class=\"plotly-graph-div\" style=\"height:525px; width:100%;\"></div>            <script type=\"text/javascript\">                require([\"plotly\"], function(Plotly) {                    window.PLOTLYENV=window.PLOTLYENV || {};                                    if (document.getElementById(\"84b9586d-a1f0-4436-86dd-2d75f534cc0a\")) {                    Plotly.newPlot(                        \"84b9586d-a1f0-4436-86dd-2d75f534cc0a\",                        [{\"customdata\":[[2022.0,2266.0],[2022.0,4530.0],[2022.0,28680.0],[2022.0,5335.0],[2022.0,2586.0],[2022.0,1090.0],[2012.0,5301.0],[2012.0,1058.0],[2012.0,5371.0],[2012.0,9501.0],[2012.0,12048.0],[2012.0,2120.0],[2012.0,2667.0],[2012.0,2178.0],[2012.0,1380.0],[2012.0,12211.0],[2012.0,1876.0],[2012.0,1492.0],[2012.0,2579.0],[2012.0,4146.0]],\"hovertemplate\":\"\\u003cb\\u003e%{hovertext}\\u003c\\u002fb\\u003e\\u003cbr\\u003e\\u003cbr\\u003elatitude=%{lat}\\u003cbr\\u003elongitude=%{lon}\\u003cbr\\u003eYEAR=%{customdata[0]}\\u003cbr\\u003eACRES=%{customdata[1]}\\u003cextra\\u003e\\u003c\\u002fextra\\u003e\",\"hovertext\":[\"SUMMIT\",\"BORDER 32\",\"FAIRVIEW\",\"ROUTE\",\"THUNDER\",\"RADFORD\",\"BORDER 6\",\"OLD 2\",\"BANNER\",\"STEWART\",\"WILSON\",\"CHIHUAHUA 2\",\"SHOCKEY\",\"HIGHLAND\",\"SAND\",\"JAWBONE COMPLEX\",\"GEORGE\",\"PIUTE COMPLEX\",\"BUCK\",\"WILLIAMS\"],\"lat\":[36.3290194862422,32.609463739529794,33.676956514150554,34.54504104712437,34.92289121804571,34.21347074913725,32.58180757380874,32.6942329310736,33.050778017888746,33.13786800871388,33.18526793673146,33.387848059261,32.61892577506164,33.84562632825666,35.12137273927863,35.27511741962612,36.160996242405886,35.52597286898124,33.57980626947579,34.26019363903986],\"legendgroup\":\"\",\"lon\":[-118.65549532054008,-116.65624019229529,-116.86510900222098,-118.64372316035085,-118.89448433081388,-116.88553461350848,-116.26773763374504,-116.36649271121964,-116.4522693207144,-116.4876269556963,-116.46448691329395,-116.72010239925493,-116.33560499065186,-116.9563847371046,-118.30464186281004,-118.21999742553592,-118.46687142576764,-118.44630863839268,-116.85285609398376,-117.78892412476723],\"marker\":{\"color\":\"red\"},\"mode\":\"markers\",\"name\":\"\",\"showlegend\":false,\"subplot\":\"mapbox\",\"type\":\"scattermapbox\"}],                        {\"template\":{\"data\":{\"histogram2dcontour\":[{\"type\":\"histogram2dcontour\",\"colorbar\":{\"outlinewidth\":0,\"ticks\":\"\"},\"colorscale\":[[0.0,\"#0d0887\"],[0.1111111111111111,\"#46039f\"],[0.2222222222222222,\"#7201a8\"],[0.3333333333333333,\"#9c179e\"],[0.4444444444444444,\"#bd3786\"],[0.5555555555555556,\"#d8576b\"],[0.6666666666666666,\"#ed7953\"],[0.7777777777777778,\"#fb9f3a\"],[0.8888888888888888,\"#fdca26\"],[1.0,\"#f0f921\"]]}],\"choropleth\":[{\"type\":\"choropleth\",\"colorbar\":{\"outlinewidth\":0,\"ticks\":\"\"}}],\"histogram2d\":[{\"type\":\"histogram2d\",\"colorbar\":{\"outlinewidth\":0,\"ticks\":\"\"},\"colorscale\":[[0.0,\"#0d0887\"],[0.1111111111111111,\"#46039f\"],[0.2222222222222222,\"#7201a8\"],[0.3333333333333333,\"#9c179e\"],[0.4444444444444444,\"#bd3786\"],[0.5555555555555556,\"#d8576b\"],[0.6666666666666666,\"#ed7953\"],[0.7777777777777778,\"#fb9f3a\"],[0.8888888888888888,\"#fdca26\"],[1.0,\"#f0f921\"]]}],\"heatmap\":[{\"type\":\"heatmap\",\"colorbar\":{\"outlinewidth\":0,\"ticks\":\"\"},\"colorscale\":[[0.0,\"#0d0887\"],[0.1111111111111111,\"#46039f\"],[0.2222222222222222,\"#7201a8\"],[0.3333333333333333,\"#9c179e\"],[0.4444444444444444,\"#bd3786\"],[0.5555555555555556,\"#d8576b\"],[0.6666666666666666,\"#ed7953\"],[0.7777777777777778,\"#fb9f3a\"],[0.8888888888888888,\"#fdca26\"],[1.0,\"#f0f921\"]]}],\"heatmapgl\":[{\"type\":\"heatmapgl\",\"colorbar\":{\"outlinewidth\":0,\"ticks\":\"\"},\"colorscale\":[[0.0,\"#0d0887\"],[0.1111111111111111,\"#46039f\"],[0.2222222222222222,\"#7201a8\"],[0.3333333333333333,\"#9c179e\"],[0.4444444444444444,\"#bd3786\"],[0.5555555555555556,\"#d8576b\"],[0.6666666666666666,\"#ed7953\"],[0.7777777777777778,\"#fb9f3a\"],[0.8888888888888888,\"#fdca26\"],[1.0,\"#f0f921\"]]}],\"contourcarpet\":[{\"type\":\"contourcarpet\",\"colorbar\":{\"outlinewidth\":0,\"ticks\":\"\"}}],\"contour\":[{\"type\":\"contour\",\"colorbar\":{\"outlinewidth\":0,\"ticks\":\"\"},\"colorscale\":[[0.0,\"#0d0887\"],[0.1111111111111111,\"#46039f\"],[0.2222222222222222,\"#7201a8\"],[0.3333333333333333,\"#9c179e\"],[0.4444444444444444,\"#bd3786\"],[0.5555555555555556,\"#d8576b\"],[0.6666666666666666,\"#ed7953\"],[0.7777777777777778,\"#fb9f3a\"],[0.8888888888888888,\"#fdca26\"],[1.0,\"#f0f921\"]]}],\"surface\":[{\"type\":\"surface\",\"colorbar\":{\"outlinewidth\":0,\"ticks\":\"\"},\"colorscale\":[[0.0,\"#0d0887\"],[0.1111111111111111,\"#46039f\"],[0.2222222222222222,\"#7201a8\"],[0.3333333333333333,\"#9c179e\"],[0.4444444444444444,\"#bd3786\"],[0.5555555555555556,\"#d8576b\"],[0.6666666666666666,\"#ed7953\"],[0.7777777777777778,\"#fb9f3a\"],[0.8888888888888888,\"#fdca26\"],[1.0,\"#f0f921\"]]}],\"mesh3d\":[{\"type\":\"mesh3d\",\"colorbar\":{\"outlinewidth\":0,\"ticks\":\"\"}}],\"scatter\":[{\"fillpattern\":{\"fillmode\":\"overlay\",\"size\":10,\"solidity\":0.2},\"type\":\"scatter\"}],\"parcoords\":[{\"type\":\"parcoords\",\"line\":{\"colorbar\":{\"outlinewidth\":0,\"ticks\":\"\"}}}],\"scatterpolargl\":[{\"type\":\"scatterpolargl\",\"marker\":{\"colorbar\":{\"outlinewidth\":0,\"ticks\":\"\"}}}],\"bar\":[{\"error_x\":{\"color\":\"#2a3f5f\"},\"error_y\":{\"color\":\"#2a3f5f\"},\"marker\":{\"line\":{\"color\":\"#E5ECF6\",\"width\":0.5},\"pattern\":{\"fillmode\":\"overlay\",\"size\":10,\"solidity\":0.2}},\"type\":\"bar\"}],\"scattergeo\":[{\"type\":\"scattergeo\",\"marker\":{\"colorbar\":{\"outlinewidth\":0,\"ticks\":\"\"}}}],\"scatterpolar\":[{\"type\":\"scatterpolar\",\"marker\":{\"colorbar\":{\"outlinewidth\":0,\"ticks\":\"\"}}}],\"histogram\":[{\"marker\":{\"pattern\":{\"fillmode\":\"overlay\",\"size\":10,\"solidity\":0.2}},\"type\":\"histogram\"}],\"scattergl\":[{\"type\":\"scattergl\",\"marker\":{\"colorbar\":{\"outlinewidth\":0,\"ticks\":\"\"}}}],\"scatter3d\":[{\"type\":\"scatter3d\",\"line\":{\"colorbar\":{\"outlinewidth\":0,\"ticks\":\"\"}},\"marker\":{\"colorbar\":{\"outlinewidth\":0,\"ticks\":\"\"}}}],\"scattermapbox\":[{\"type\":\"scattermapbox\",\"marker\":{\"colorbar\":{\"outlinewidth\":0,\"ticks\":\"\"}}}],\"scatterternary\":[{\"type\":\"scatterternary\",\"marker\":{\"colorbar\":{\"outlinewidth\":0,\"ticks\":\"\"}}}],\"scattercarpet\":[{\"type\":\"scattercarpet\",\"marker\":{\"colorbar\":{\"outlinewidth\":0,\"ticks\":\"\"}}}],\"carpet\":[{\"aaxis\":{\"endlinecolor\":\"#2a3f5f\",\"gridcolor\":\"white\",\"linecolor\":\"white\",\"minorgridcolor\":\"white\",\"startlinecolor\":\"#2a3f5f\"},\"baxis\":{\"endlinecolor\":\"#2a3f5f\",\"gridcolor\":\"white\",\"linecolor\":\"white\",\"minorgridcolor\":\"white\",\"startlinecolor\":\"#2a3f5f\"},\"type\":\"carpet\"}],\"table\":[{\"cells\":{\"fill\":{\"color\":\"#EBF0F8\"},\"line\":{\"color\":\"white\"}},\"header\":{\"fill\":{\"color\":\"#C8D4E3\"},\"line\":{\"color\":\"white\"}},\"type\":\"table\"}],\"barpolar\":[{\"marker\":{\"line\":{\"color\":\"#E5ECF6\",\"width\":0.5},\"pattern\":{\"fillmode\":\"overlay\",\"size\":10,\"solidity\":0.2}},\"type\":\"barpolar\"}],\"pie\":[{\"automargin\":true,\"type\":\"pie\"}]},\"layout\":{\"autotypenumbers\":\"strict\",\"colorway\":[\"#636efa\",\"#EF553B\",\"#00cc96\",\"#ab63fa\",\"#FFA15A\",\"#19d3f3\",\"#FF6692\",\"#B6E880\",\"#FF97FF\",\"#FECB52\"],\"font\":{\"color\":\"#2a3f5f\"},\"hovermode\":\"closest\",\"hoverlabel\":{\"align\":\"left\"},\"paper_bgcolor\":\"white\",\"plot_bgcolor\":\"#E5ECF6\",\"polar\":{\"bgcolor\":\"#E5ECF6\",\"angularaxis\":{\"gridcolor\":\"white\",\"linecolor\":\"white\",\"ticks\":\"\"},\"radialaxis\":{\"gridcolor\":\"white\",\"linecolor\":\"white\",\"ticks\":\"\"}},\"ternary\":{\"bgcolor\":\"#E5ECF6\",\"aaxis\":{\"gridcolor\":\"white\",\"linecolor\":\"white\",\"ticks\":\"\"},\"baxis\":{\"gridcolor\":\"white\",\"linecolor\":\"white\",\"ticks\":\"\"},\"caxis\":{\"gridcolor\":\"white\",\"linecolor\":\"white\",\"ticks\":\"\"}},\"coloraxis\":{\"colorbar\":{\"outlinewidth\":0,\"ticks\":\"\"}},\"colorscale\":{\"sequential\":[[0.0,\"#0d0887\"],[0.1111111111111111,\"#46039f\"],[0.2222222222222222,\"#7201a8\"],[0.3333333333333333,\"#9c179e\"],[0.4444444444444444,\"#bd3786\"],[0.5555555555555556,\"#d8576b\"],[0.6666666666666666,\"#ed7953\"],[0.7777777777777778,\"#fb9f3a\"],[0.8888888888888888,\"#fdca26\"],[1.0,\"#f0f921\"]],\"sequentialminus\":[[0.0,\"#0d0887\"],[0.1111111111111111,\"#46039f\"],[0.2222222222222222,\"#7201a8\"],[0.3333333333333333,\"#9c179e\"],[0.4444444444444444,\"#bd3786\"],[0.5555555555555556,\"#d8576b\"],[0.6666666666666666,\"#ed7953\"],[0.7777777777777778,\"#fb9f3a\"],[0.8888888888888888,\"#fdca26\"],[1.0,\"#f0f921\"]],\"diverging\":[[0,\"#8e0152\"],[0.1,\"#c51b7d\"],[0.2,\"#de77ae\"],[0.3,\"#f1b6da\"],[0.4,\"#fde0ef\"],[0.5,\"#f7f7f7\"],[0.6,\"#e6f5d0\"],[0.7,\"#b8e186\"],[0.8,\"#7fbc41\"],[0.9,\"#4d9221\"],[1,\"#276419\"]]},\"xaxis\":{\"gridcolor\":\"white\",\"linecolor\":\"white\",\"ticks\":\"\",\"title\":{\"standoff\":15},\"zerolinecolor\":\"white\",\"automargin\":true,\"zerolinewidth\":2},\"yaxis\":{\"gridcolor\":\"white\",\"linecolor\":\"white\",\"ticks\":\"\",\"title\":{\"standoff\":15},\"zerolinecolor\":\"white\",\"automargin\":true,\"zerolinewidth\":2},\"scene\":{\"xaxis\":{\"backgroundcolor\":\"#E5ECF6\",\"gridcolor\":\"white\",\"linecolor\":\"white\",\"showbackground\":true,\"ticks\":\"\",\"zerolinecolor\":\"white\",\"gridwidth\":2},\"yaxis\":{\"backgroundcolor\":\"#E5ECF6\",\"gridcolor\":\"white\",\"linecolor\":\"white\",\"showbackground\":true,\"ticks\":\"\",\"zerolinecolor\":\"white\",\"gridwidth\":2},\"zaxis\":{\"backgroundcolor\":\"#E5ECF6\",\"gridcolor\":\"white\",\"linecolor\":\"white\",\"showbackground\":true,\"ticks\":\"\",\"zerolinecolor\":\"white\",\"gridwidth\":2}},\"shapedefaults\":{\"line\":{\"color\":\"#2a3f5f\"}},\"annotationdefaults\":{\"arrowcolor\":\"#2a3f5f\",\"arrowhead\":0,\"arrowwidth\":1},\"geo\":{\"bgcolor\":\"white\",\"landcolor\":\"#E5ECF6\",\"subunitcolor\":\"white\",\"showland\":true,\"showlakes\":true,\"lakecolor\":\"white\"},\"title\":{\"x\":0.05},\"mapbox\":{\"style\":\"light\"}}},\"mapbox\":{\"domain\":{\"x\":[0.0,1.0],\"y\":[0.0,1.0]},\"center\":{\"lat\":34.03613282819165,\"lon\":-117.33654459263339},\"zoom\":6,\"style\":\"carto-positron\"},\"legend\":{\"tracegroupgap\":0},\"margin\":{\"t\":60},\"title\":{\"text\":\"Fire Locations\",\"x\":0.5}},                        {\"responsive\": true}                    ).then(function(){\n",
       "                            \n",
       "var gd = document.getElementById('84b9586d-a1f0-4436-86dd-2d75f534cc0a');\n",
       "var x = new MutationObserver(function (mutations, observer) {{\n",
       "        var display = window.getComputedStyle(gd).display;\n",
       "        if (!display || display === 'none') {{\n",
       "            console.log([gd, 'removed!']);\n",
       "            Plotly.purge(gd);\n",
       "            observer.disconnect();\n",
       "        }}\n",
       "}});\n",
       "\n",
       "// Listen for the removal of the full notebook cells\n",
       "var notebookContainer = gd.closest('#notebook-container');\n",
       "if (notebookContainer) {{\n",
       "    x.observe(notebookContainer, {childList: true});\n",
       "}}\n",
       "\n",
       "// Listen for the clearing of the current output cell\n",
       "var outputEl = gd.closest('.output');\n",
       "if (outputEl) {{\n",
       "    x.observe(outputEl, {childList: true});\n",
       "}}\n",
       "\n",
       "                        })                };                });            </script>        </div>"
      ]
     },
     "metadata": {},
     "output_type": "display_data"
    },
    {
     "name": "stdout",
     "output_type": "stream",
     "text": [
      "Plotly map has been saved to 'fire_map_plotly.html'\n"
     ]
    }
   ],
   "source": [
    "all_records = pd.read_csv('Output_Data/fire_data_2012_2022.csv')\n",
    "\n",
    "# Create a scatter mapbox plot\n",
    "fig = px.scatter_mapbox(\n",
    "    all_records,\n",
    "    lat='latitude',\n",
    "    lon='longitude',\n",
    "    hover_name='FIRE_NAME',\n",
    "    hover_data={'YEAR': True, 'ACRES': True},\n",
    "    color_discrete_sequence=['red'],\n",
    "    zoom=6,\n",
    "    mapbox_style=\"carto-positron\"\n",
    ")\n",
    "\n",
    "# Update layout to show title\n",
    "fig.update_layout(\n",
    "    title='Fire Locations',\n",
    "    title_x=0.5\n",
    ")\n",
    "\n",
    "# Save to HTML\n",
    "fig.write_html('Output_Data/fire_map_plotly.html')\n",
    "fig.show()\n",
    "print(\"Plotly map has been saved to 'fire_map_plotly.html'\")"
   ]
  },
  {
   "cell_type": "code",
   "execution_count": 36,
   "id": "120bc86a-dca4-4188-921d-8c228a292374",
   "metadata": {},
   "outputs": [],
   "source": [
    "from IPython.display import display\n",
    "import geopandas as gpd\n",
    "from shapely.geometry import Point\n"
   ]
  },
  {
   "cell_type": "code",
   "execution_count": 37,
   "id": "1e4c8e83-faf9-4b65-98da-6fe060caba58",
   "metadata": {},
   "outputs": [
    {
     "data": {
      "text/html": [
       "<div>\n",
       "<style scoped>\n",
       "    .dataframe tbody tr th:only-of-type {\n",
       "        vertical-align: middle;\n",
       "    }\n",
       "\n",
       "    .dataframe tbody tr th {\n",
       "        vertical-align: top;\n",
       "    }\n",
       "\n",
       "    .dataframe thead th {\n",
       "        text-align: right;\n",
       "    }\n",
       "</style>\n",
       "<table border=\"1\" class=\"dataframe\">\n",
       "  <thead>\n",
       "    <tr style=\"text-align: right;\">\n",
       "      <th></th>\n",
       "      <th>FIRE_ID</th>\n",
       "      <th>FIRE_NAME</th>\n",
       "      <th>YEAR</th>\n",
       "      <th>ACRES</th>\n",
       "      <th>latitude</th>\n",
       "      <th>longitude</th>\n",
       "      <th>geometry</th>\n",
       "    </tr>\n",
       "  </thead>\n",
       "  <tbody>\n",
       "    <tr>\n",
       "      <th>0</th>\n",
       "      <td>CA3633311865120220803</td>\n",
       "      <td>SUMMIT</td>\n",
       "      <td>2022</td>\n",
       "      <td>2266.0</td>\n",
       "      <td>36.329019</td>\n",
       "      <td>-118.655495</td>\n",
       "      <td>POINT (-118.65550 36.32902)</td>\n",
       "    </tr>\n",
       "    <tr>\n",
       "      <th>1</th>\n",
       "      <td>CA3261311670620220831</td>\n",
       "      <td>BORDER 32</td>\n",
       "      <td>2022</td>\n",
       "      <td>4530.0</td>\n",
       "      <td>32.609464</td>\n",
       "      <td>-116.656240</td>\n",
       "      <td>POINT (-116.65624 32.60946)</td>\n",
       "    </tr>\n",
       "    <tr>\n",
       "      <th>2</th>\n",
       "      <td>CA3371711689320220905</td>\n",
       "      <td>FAIRVIEW</td>\n",
       "      <td>2022</td>\n",
       "      <td>28680.0</td>\n",
       "      <td>33.676957</td>\n",
       "      <td>-116.865109</td>\n",
       "      <td>POINT (-116.86511 33.67696)</td>\n",
       "    </tr>\n",
       "    <tr>\n",
       "      <th>3</th>\n",
       "      <td>CA3451411862920220831</td>\n",
       "      <td>ROUTE</td>\n",
       "      <td>2022</td>\n",
       "      <td>5335.0</td>\n",
       "      <td>34.545041</td>\n",
       "      <td>-118.643723</td>\n",
       "      <td>POINT (-118.64372 34.54504)</td>\n",
       "    </tr>\n",
       "    <tr>\n",
       "      <th>4</th>\n",
       "      <td>CA3493411887620220622</td>\n",
       "      <td>THUNDER</td>\n",
       "      <td>2022</td>\n",
       "      <td>2586.0</td>\n",
       "      <td>34.922891</td>\n",
       "      <td>-118.894484</td>\n",
       "      <td>POINT (-118.89448 34.92289)</td>\n",
       "    </tr>\n",
       "  </tbody>\n",
       "</table>\n",
       "</div>"
      ],
      "text/plain": [
       "                 FIRE_ID  FIRE_NAME  YEAR    ACRES   latitude   longitude  \\\n",
       "0  CA3633311865120220803     SUMMIT  2022   2266.0  36.329019 -118.655495   \n",
       "1  CA3261311670620220831  BORDER 32  2022   4530.0  32.609464 -116.656240   \n",
       "2  CA3371711689320220905   FAIRVIEW  2022  28680.0  33.676957 -116.865109   \n",
       "3  CA3451411862920220831      ROUTE  2022   5335.0  34.545041 -118.643723   \n",
       "4  CA3493411887620220622    THUNDER  2022   2586.0  34.922891 -118.894484   \n",
       "\n",
       "                      geometry  \n",
       "0  POINT (-118.65550 36.32902)  \n",
       "1  POINT (-116.65624 32.60946)  \n",
       "2  POINT (-116.86511 33.67696)  \n",
       "3  POINT (-118.64372 34.54504)  \n",
       "4  POINT (-118.89448 34.92289)  "
      ]
     },
     "execution_count": 37,
     "metadata": {},
     "output_type": "execute_result"
    }
   ],
   "source": [
    "# Assuming `all_records` DataFrame has latitude and longitude columns\n",
    "# Create a GeoDataFrame\n",
    "geometry = [Point(xy) for xy in zip(all_records['longitude'], all_records['latitude'])]\n",
    "gdf = gpd.GeoDataFrame(all_records, geometry=geometry)\n",
    "\n",
    "# Set the coordinate reference system (CRS) to WGS84 (EPSG:4326)\n",
    "gdf.set_crs(epsg=4326, inplace=True)\n",
    "\n",
    "# Display the first few records\n",
    "gdf.head()\n",
    "\n"
   ]
  },
  {
   "cell_type": "code",
   "execution_count": 38,
   "id": "002206b5-4d5f-4fcc-bf2e-4aaa3699d299",
   "metadata": {},
   "outputs": [
    {
     "data": {
      "text/plain": [
       "<Axes: >"
      ]
     },
     "execution_count": 38,
     "metadata": {},
     "output_type": "execute_result"
    },
    {
     "data": {
      "image/png": "[encoded data removed]",
      "text/plain": [
       "<Figure size 640x480 with 1 Axes>"
      ]
     },
     "metadata": {},
     "output_type": "display_data"
    }
   ],
   "source": [
    "# Plot the fire locations\n",
    "gdf.plot(marker='o', color='red', markersize=5)\n"
   ]
  },
  {
   "cell_type": "code",
   "execution_count": null,
   "id": "a5704f03-2913-4a62-a910-7148ad44b6e8",
   "metadata": {},
   "outputs": [],
   "source": []
  }
 ],
 "metadata": {
  "kernelspec": {
   "display_name": "Python 3 (ipykernel)",
   "language": "python",
   "name": "python3"
  },
  "language_info": {
   "codemirror_mode": {
    "name": "ipython",
    "version": 3
   },
   "file_extension": ".py",
   "mimetype": "text/x-python",
   "name": "python",
   "nbconvert_exporter": "python",
   "pygments_lexer": "ipython3",
   "version": "3.10.14"
  }
 },
 "nbformat": 4,
 "nbformat_minor": 5
}
